{
 "cells": [
  {
   "cell_type": "markdown",
   "metadata": {},
   "source": [
    "Imports"
   ]
  },
  {
   "cell_type": "code",
   "execution_count": 290,
   "metadata": {},
   "outputs": [],
   "source": [
    "import numpy as np\n",
    "import pandas as pd\n",
    "import matplotlib.pyplot as plt\n",
    "import scipy.io\n",
    "import h5py\n",
    "import statsmodels.api as sm\n",
    "from scipy.stats import skew\n",
    "from collections import Counter\n",
    "from sklearn.linear_model import LinearRegression\n",
    "from sklearn.model_selection import LeaveOneGroupOut, GridSearchCV\n",
    "from sklearn.preprocessing import StandardScaler\n",
    "from sklearn.metrics import mean_squared_error\n",
    "from sklearn.linear_model import Ridge\n",
    "from sklearn.svm import SVR\n",
    "from sklearn.ensemble import RandomForestRegressor\n",
    "from sklearn.metrics import r2_score\n",
    "from xgboost import XGBRegressor"
   ]
  },
  {
   "attachments": {},
   "cell_type": "markdown",
   "metadata": {},
   "source": [
    "Import fMRI data"
   ]
  },
  {
   "cell_type": "code",
   "execution_count": 2,
   "metadata": {},
   "outputs": [],
   "source": [
    "all_subject_arr = h5py.File('all_subject_arr.mat', 'r')\n",
    "keys = all_subject_arr.keys()\n",
    "data = all_subject_arr['all_subject_arr']\n",
    "#all_mean_roi = np.transpose(all_mean_roi)\n",
    "data = data[:]\n",
    "data_ref = data[0]\n",
    "data0 = all_subject_arr[data_ref[0]]\n",
    "all_subject_arr[data0[:][0][0]][:][0][0]\n",
    "sub_nums = np.zeros(43, dtype=int)\n",
    "ROI_names = [\"PCC\", \"SMA\", \"VSTR\", \"Kolling\", \"M1\", \"v1\", \"v1\", \"VMPFC\"]\n",
    "all_data = []\n",
    "for i  in range(43):\n",
    "    sub_data = data[i][0]\n",
    "    sub_data = all_subject_arr[sub_data]\n",
    "    \n",
    "    #get sub_num\n",
    "    sub_num = sub_data[0][0]\n",
    "    sub_num = all_subject_arr[sub_num]\n",
    "    sub_num = int(sub_num[0][0])\n",
    "    sub_nums[i] = sub_num\n",
    "    \n",
    "    #get sub data values\n",
    "    sub_fmri = sub_data[1][0]\n",
    "    sub_fmri = all_subject_arr[sub_fmri]\n",
    "    sub_fmri = sub_fmri[:][1]\n",
    "    sub_ROIs = []\n",
    "    for j in range(8): #extract data by ROI\n",
    "        #if(i == 0 and j == 0):\n",
    "            #print(all_subject_arr[sub_fmri[j]][:])\n",
    "        sub_ROIs.append(all_subject_arr[sub_fmri[j]][:])\n",
    "    all_data.append(sub_ROIs)\n",
    "        \n",
    "\n"
   ]
  },
  {
   "attachments": {},
   "cell_type": "markdown",
   "metadata": {},
   "source": [
    "demean the data by blocks, RUN THIS BLOCK ONLY ONCE OR ELSE IT WILL REDUCE THE MEAN A COUPLE OF TIMES FROM THE DATA"
   ]
  },
  {
   "cell_type": "code",
   "execution_count": 3,
   "metadata": {},
   "outputs": [
    {
     "name": "stdout",
     "output_type": "stream",
     "text": [
      "[5314.92382812 5331.81787109 5313.82128906]\n"
     ]
    }
   ],
   "source": [
    "all_subject_demeaned = scipy.io.loadmat('all_subject_demeaned.mat')\n",
    "all_subject_demeaned = all_subject_demeaned['all_subject_demeaned']\n",
    "data_demeaned = []\n",
    "for i in range(43):\n",
    "    sub_mean = all_subject_demeaned[0][i]\n",
    "    sub_mean = sub_mean[0][1]\n",
    "    block_mean = np.zeros(3)\n",
    "    ROIs_demeaned = []\n",
    "    for j in range(sub_mean.shape[1]):\n",
    "        block_mean[j] = sub_mean[0][j][0][0]\n",
    "    if(i == 0):\n",
    "        print(block_mean)\n",
    "    for k in range(8):\n",
    "        if(i == 22): #subject 127 has no third block\n",
    "            sub_data_blocks = np.reshape(all_data[i][k].T,(2,428,all_data[i][k].shape[0]))\n",
    "        else:\n",
    "            sub_data_blocks = np.reshape(all_data[i][k].T,(3,428,all_data[i][k].shape[0]))\n",
    "        #print(sub_nums[i], i, ROI_names[k], k, sub_data_blocks.shape)\n",
    "        for j in range(sub_data_blocks.shape[0]):\n",
    "            sub_data_blocks[j] = sub_data_blocks[j] - block_mean[j]\n",
    "        ROI_demeaned = np.reshape(sub_data_blocks, (sub_data_blocks.shape[0]*428, all_data[i][k].shape[0]))\n",
    "        ROIs_demeaned.append(ROI_demeaned)\n",
    "    data_demeaned.append(ROIs_demeaned)\n"
   ]
  },
  {
   "cell_type": "code",
   "execution_count": 4,
   "metadata": {},
   "outputs": [
    {
     "data": {
      "text/plain": [
       "(856, 15211)"
      ]
     },
     "execution_count": 4,
     "metadata": {},
     "output_type": "execute_result"
    }
   ],
   "source": [
    "data_demeaned[22][0].shape"
   ]
  },
  {
   "attachments": {},
   "cell_type": "markdown",
   "metadata": {},
   "source": [
    "Extract MMI data"
   ]
  },
  {
   "cell_type": "code",
   "execution_count": 5,
   "metadata": {},
   "outputs": [],
   "source": [
    "all_MMIs = np.zeros((43,75))\n",
    "for i in range(43):\n",
    "    sub_num = sub_nums[i]\n",
    "    path = \"./behavioral_data/\" + str(sub_num) + \".xls\"\n",
    "    df = pd.read_excel(path)\n",
    "    sub_MMI = df['MMI_In_Sample_component'].values\n",
    "    sub_MMI[np.isnan(sub_MMI)] = 2\n",
    "    all_MMIs[i] = sub_MMI\n",
    "all_MMIs_by_blocks = np.reshape(all_MMIs, (43,3,25))\n",
    "all_MMIs_by_trials = np.reshape(all_MMIs, (3225,))\n",
    "all_MMIs_by_trials = np.concatenate((all_MMIs_by_trials[:1700],all_MMIs_by_trials[1725:])) #remove problematic MMIs from the third trial of subject 27"
   ]
  },
  {
   "attachments": {},
   "cell_type": "markdown",
   "metadata": {},
   "source": [
    "check for defaulted MMIs and remove them (value of 0 or missing)"
   ]
  },
  {
   "cell_type": "code",
   "execution_count": 6,
   "metadata": {},
   "outputs": [
    {
     "data": {
      "text/plain": [
       "array([1860, 1862, 1864, 1872, 1874, 1878, 1880, 1886, 1890, 1891, 1902,\n",
       "       1911, 2227, 2525, 2526, 2528, 2530, 2532, 2537, 2539, 2542, 2545,\n",
       "       2546, 2551, 2552, 2557, 2558, 2562, 2566, 2568, 2571, 2574, 2576,\n",
       "       2579, 2581, 2582, 2583, 2586, 2587, 2589, 2590, 2593, 2595,  224,\n",
       "        612,  614,  625,  626,  678, 1055, 1092, 1286, 1368, 1426, 1449,\n",
       "       1555, 1639, 1869, 2159, 2173, 2228, 2314, 2341, 2396, 2454, 2519,\n",
       "       2538, 3053, 3068, 3141, 1273, 2529, 2556, 2573, 2635, 2645])"
      ]
     },
     "execution_count": 6,
     "metadata": {},
     "output_type": "execute_result"
    }
   ],
   "source": [
    "zeros = []\n",
    "missing = []\n",
    "minus = []\n",
    "for i in range(43):\n",
    "    for j in range(75):\n",
    "        if(all_MMIs[i][j] == 0):\n",
    "            zeros.append((i,j))\n",
    "        if(all_MMIs[i][j] == 2):\n",
    "            missing.append((i,j))\n",
    "        if(all_MMIs[i][j] < 0):\n",
    "            minus.append((i,j))\n",
    "zero_MMIs_trials = np.where(all_MMIs_by_trials == 0)[0]\n",
    "missing_MMIs_trials = np.where(all_MMIs_by_trials == 2)[0]\n",
    "minus_MMIs_trials = np.where(all_MMIs_by_trials < 0)[0]\n",
    "defaulted_trials = np.concatenate((zero_MMIs_trials,missing_MMIs_trials, minus_MMIs_trials))\n",
    "defaulted_trials_by_sub = missing + zeros + minus\n",
    "defaulted_trials"
   ]
  },
  {
   "attachments": {},
   "cell_type": "markdown",
   "metadata": {},
   "source": [
    "RUN ONLY ONCE"
   ]
  },
  {
   "cell_type": "code",
   "execution_count": 7,
   "metadata": {},
   "outputs": [],
   "source": [
    "all_MMIs_by_trials = np.delete(all_MMIs_by_trials, defaulted_trials)"
   ]
  },
  {
   "attachments": {},
   "cell_type": "markdown",
   "metadata": {},
   "source": [
    "Transform MMIs"
   ]
  },
  {
   "cell_type": "code",
   "execution_count": 8,
   "metadata": {},
   "outputs": [],
   "source": [
    "MMIs_transformed = np.cbrt(all_MMIs_by_trials)"
   ]
  },
  {
   "attachments": {},
   "cell_type": "markdown",
   "metadata": {},
   "source": [
    "Get start and end indices of each trial"
   ]
  },
  {
   "cell_type": "code",
   "execution_count": 9,
   "metadata": {},
   "outputs": [],
   "source": [
    "start_indices = np.zeros((43,75))\n",
    "missing_trials = []\n",
    "for i in range(43):\n",
    "    sub_num = sub_nums[i]\n",
    "    path = \"./behavioral_data/\" + str(sub_num) + \".xls\"\n",
    "    df = pd.read_excel(path)\n",
    "    rt = df['RT'].values\n",
    "    remaining_time = df['Remaining_time'].values\n",
    "    iti = df['ITI'].values\n",
    "    for j in range(1,75):\n",
    "        if(np.isnan(rt[j])):\n",
    "            missing_trials.append((i,j))\n",
    "            rt[j] = 0\n",
    "        if(j % 25 == 0):\n",
    "            start_indices[i][j] = start_indices[i][j-1] + 11 + iti[j-1] + 3 #add fixation time at the beginning of each block\n",
    "        else:\n",
    "            start_indices[i][j] = start_indices[i][j-1] + 11 + iti[j-1]\n",
    "    #print(start_indices[i], sub_num)\n",
    "start_indices = start_indices + 6\n",
    "start_indices = np.round(start_indices)\n",
    "start_indices = start_indices.astype(int)\n"
   ]
  },
  {
   "attachments": {},
   "cell_type": "markdown",
   "metadata": {},
   "source": [
    "rearange data by trials and exclude v1 left (index = 5) and right (index = 6) and remove problematic trials (50-75) in subject 127\n",
    "            ROI1 ROI2 ... ROI6\n",
    "sub1|trial 1\n",
    "     trial 2\n",
    "     ...\n",
    "     trial 75\n",
    "sub2|\n",
    "...\n",
    "sub43|"
   ]
  },
  {
   "cell_type": "code",
   "execution_count": 10,
   "metadata": {},
   "outputs": [],
   "source": [
    "data_by_sub_and_trials = []\n",
    "data_by_trials = []\n",
    "for i in range(43):\n",
    "    sub_start_indices = start_indices[i]\n",
    "    sub_trials = []\n",
    "    for k in range(75):\n",
    "        sub_trial = []\n",
    "        for j in range(8):\n",
    "            if(j == 5 or j == 6):\n",
    "                continue\n",
    "            sub_trial.append(data_demeaned[i][j][sub_start_indices[k]:sub_start_indices[k]+11])\n",
    "            if(i == 22 and k >=50): #exclude the third trial of subject 127\n",
    "                continue\n",
    "        sub_trials.append(sub_trial)\n",
    "    data_by_sub_and_trials.append(sub_trials)\n",
    "for i in range(43):\n",
    "    for j in range(75):\n",
    "        if(i == 22 and j >=50): #exclude the third trial of subject 127\n",
    "                continue\n",
    "        data_by_trials.append(data_by_sub_and_trials[i][j])\n",
    "        for k in range(6): #check if v1 left and right were excluded\n",
    "            if(data_by_sub_and_trials[i][j][k].shape[1] == 3159):\n",
    "                print(\"v1 left is present\", i,j,k)\n",
    "            if(data_by_sub_and_trials[i][j][k].shape[1] == 5049):\n",
    "                print(\"v1 right is present\", i,j,k)\n"
   ]
  },
  {
   "attachments": {},
   "cell_type": "markdown",
   "metadata": {},
   "source": [
    "remove defaulted trials (missing and zero trials and empty lists for the missing trials of the third block of subject 127)"
   ]
  },
  {
   "cell_type": "code",
   "execution_count": 11,
   "metadata": {},
   "outputs": [],
   "source": [
    "data_wo_defaulted_trials = []\n",
    "for i in range(3200):\n",
    "    if(np.isin(i, defaulted_trials)):\n",
    "        continue\n",
    "    data_wo_defaulted_trials.append(data_by_trials[i])\n",
    "fMRI_by_trials = data_wo_defaulted_trials"
   ]
  },
  {
   "cell_type": "code",
   "execution_count": 12,
   "metadata": {},
   "outputs": [],
   "source": [
    "data_wo_defaulted_trials_by_sub = []\n",
    "for i in range(43):\n",
    "    sub_wo_defaulted_trials = []\n",
    "    for j in range(75):\n",
    "        if((i,j) in defaulted_trials_by_sub):\n",
    "            continue\n",
    "        sub_wo_defaulted_trials.append(data_by_sub_and_trials[i][j])\n",
    "    data_wo_defaulted_trials_by_sub.append(sub_wo_defaulted_trials)\n",
    "fMRI_by_sub_and_trials = data_wo_defaulted_trials_by_sub"
   ]
  },
  {
   "cell_type": "code",
   "execution_count": 13,
   "metadata": {},
   "outputs": [],
   "source": [
    "data_by_sub_and_trials[22] = data_by_sub_and_trials[22][:-25]\n",
    "fMRI_by_sub_and_trials[22] = fMRI_by_sub_and_trials[22][:-25]\n"
   ]
  },
  {
   "attachments": {},
   "cell_type": "markdown",
   "metadata": {},
   "source": [
    "start extracting features: first, average and variance of each trial"
   ]
  },
  {
   "cell_type": "code",
   "execution_count": 14,
   "metadata": {},
   "outputs": [],
   "source": [
    "averages = np.zeros((3124, 66))\n",
    "variances = np.zeros((3124, 66))\n",
    "for i in range(3124):\n",
    "    trial_average = np.array([])\n",
    "    trial_variance = np.array([])\n",
    "    for j in range(6):\n",
    "        trial_average = np.concatenate((trial_average, np.mean(fMRI_by_trials[i][j], axis=1)))\n",
    "        trial_variance = np.concatenate((trial_variance,  np.var(fMRI_by_trials[i][j], axis=1)))\n",
    "    averages[i] = trial_average\n",
    "    variances[i] = trial_variance"
   ]
  },
  {
   "attachments": {},
   "cell_type": "markdown",
   "metadata": {},
   "source": [
    "calculate the correlation between the averages of each region in every second of every trial"
   ]
  },
  {
   "cell_type": "code",
   "execution_count": 15,
   "metadata": {},
   "outputs": [],
   "source": [
    "correaltions = np.zeros((3124, 15))\n",
    "for i in range(3124):    \n",
    "    means = np.zeros((6,11))\n",
    "    for j in range(6):\n",
    "        for k in range(11):\n",
    "            means[j][k] = np.mean(fMRI_by_trials[i][j][k])\n",
    "    trial_correaltions = np.triu(np.corrcoef(means), k=1)\n",
    "    #print(trial_correaltions)\n",
    "    trial_correaltions = trial_correaltions[np.nonzero(trial_correaltions)]\n",
    "    correaltions[i] = trial_correaltions"
   ]
  },
  {
   "attachments": {},
   "cell_type": "markdown",
   "metadata": {},
   "source": [
    "calculate skewness"
   ]
  },
  {
   "cell_type": "code",
   "execution_count": 16,
   "metadata": {},
   "outputs": [],
   "source": [
    "skewness = np.zeros((3124, 66))\n",
    "for i in range(3124):\n",
    "    trial_skew = np.array([])\n",
    "    for j in range(6):\n",
    "        trial_skew = np.concatenate((trial_skew, skew(fMRI_by_trials[i][j], axis=1)))\n",
    "    skewness[i] = trial_skew"
   ]
  },
  {
   "attachments": {},
   "cell_type": "markdown",
   "metadata": {},
   "source": [
    "calculate autocorrelation of the averages of each region in every second to get a sense of the temporal advancement that is happening in every region in every trial"
   ]
  },
  {
   "cell_type": "code",
   "execution_count": 17,
   "metadata": {},
   "outputs": [],
   "source": [
    "averages_by_trial_and_region = np.reshape(averages, (3124,6,11))\n",
    "autocorrelations = np.zeros((3124,60))\n",
    "for i in range(3124):\n",
    "    trial_autocorr = np.array([])\n",
    "    for j in range(6):\n",
    "        curr_trial = averages_by_trial_and_region[i][j]\n",
    "        curr_autocorr = sm.tsa.acf(curr_trial)[1:]\n",
    "        trial_autocorr = np.concatenate((trial_autocorr, curr_autocorr))\n",
    "    autocorrelations[i] = trial_autocorr\n"
   ]
  },
  {
   "cell_type": "code",
   "execution_count": 18,
   "metadata": {},
   "outputs": [
    {
     "name": "stdout",
     "output_type": "stream",
     "text": [
      "[ 0.54616507  0.1152103  -0.08988511 -0.29538425 -0.38480133 -0.24391727\n",
      " -0.24420301 -0.14102381  0.11117414  0.12666527]\n"
     ]
    },
    {
     "data": {
      "text/plain": [
       "array([0.91141143, 0.82187342, 0.73042374, 0.63861279, 0.54660847,\n",
       "       0.4532364 , 0.36124057, 0.26945902, 0.17805289, 0.0885574 ])"
      ]
     },
     "execution_count": 18,
     "metadata": {},
     "output_type": "execute_result"
    }
   ],
   "source": [
    "print(sm.tsa.acf(averages_by_trial_and_region[0][0])[1:])\n",
    "corr = np.correlate(averages_by_trial_and_region[0][0], averages_by_trial_and_region[0][0], mode='full')\n",
    "corr = corr/np.max(corr)\n",
    "corr[11:]"
   ]
  },
  {
   "cell_type": "code",
   "execution_count": 19,
   "metadata": {},
   "outputs": [
    {
     "data": {
      "text/plain": [
       "array([[1.        , 0.69256162],\n",
       "       [0.69256162, 1.        ]])"
      ]
     },
     "execution_count": 19,
     "metadata": {},
     "output_type": "execute_result"
    }
   ],
   "source": [
    "np.corrcoef(averages_by_trial_and_region[0][0][:-1], averages_by_trial_and_region[0][0][1:])"
   ]
  },
  {
   "attachments": {},
   "cell_type": "markdown",
   "metadata": {},
   "source": [
    "Combine all features in a dataframe (without regular correlations because it might not be a good feature)"
   ]
  },
  {
   "cell_type": "code",
   "execution_count": 201,
   "metadata": {},
   "outputs": [],
   "source": [
    "row_indices = [x[0] for x in defaulted_trials_by_sub]\n",
    "row_indices = Counter(row_indices)\n",
    "row_indices[22] = 25\n",
    "for key in row_indices:\n",
    "    row_indices[key] = 75 - row_indices[key]\n",
    "for i in range(43):\n",
    "    if(i not in row_indices.keys()):\n",
    "        row_indices[i] = 75\n",
    "row_indices = dict(sorted(row_indices.items()))\n",
    "row_indices\n",
    "row_names = []\n",
    "groups = []\n",
    "for key in row_indices.keys():\n",
    "    for i in range(row_indices.get(key)):\n",
    "        row_names.append('trial' + str(i) + '_sub' + str(key))\n",
    "        groups.append(key)\n",
    "groups = np.array(groups)\n",
    "groups = np.reshape(groups, (3124,1))"
   ]
  },
  {
   "cell_type": "code",
   "execution_count": 202,
   "metadata": {},
   "outputs": [],
   "source": [
    "ROI_names = [\"PCC\", \"SMA\", \"VSTR\", \"ACC\", \"M1\", \"VMPFC\"]\n",
    "averages_names = []\n",
    "variances_names = []\n",
    "skewness_names = []\n",
    "autocorr_names = []\n",
    "\n",
    "for x in ROI_names:\n",
    "    for i in range(11):\n",
    "        averages_names.append(x + '_average_sec' + str(i))\n",
    "        variances_names.append(x + '_variance_sec' + str(i))\n",
    "        skewness_names.append(x + '_skewness_sec' + str(i))\n",
    "for x in ROI_names:\n",
    "    for i in range(10):\n",
    "        autocorr_names.append(x + '_autrocorr_lag' + str(i+1))\n",
    "column_names = averages_names + variances_names + skewness_names + autocorr_names\n",
    "column_names.append('MMIs transformed')\n",
    "column_names.append('groups')"
   ]
  },
  {
   "cell_type": "code",
   "execution_count": 203,
   "metadata": {},
   "outputs": [
    {
     "data": {
      "text/html": [
       "<div>\n",
       "<style scoped>\n",
       "    .dataframe tbody tr th:only-of-type {\n",
       "        vertical-align: middle;\n",
       "    }\n",
       "\n",
       "    .dataframe tbody tr th {\n",
       "        vertical-align: top;\n",
       "    }\n",
       "\n",
       "    .dataframe thead th {\n",
       "        text-align: right;\n",
       "    }\n",
       "</style>\n",
       "<table border=\"1\" class=\"dataframe\">\n",
       "  <thead>\n",
       "    <tr style=\"text-align: right;\">\n",
       "      <th></th>\n",
       "      <th>PCC_average_sec0</th>\n",
       "      <th>PCC_average_sec1</th>\n",
       "      <th>PCC_average_sec2</th>\n",
       "      <th>PCC_average_sec3</th>\n",
       "      <th>PCC_average_sec4</th>\n",
       "      <th>PCC_average_sec5</th>\n",
       "      <th>PCC_average_sec6</th>\n",
       "      <th>PCC_average_sec7</th>\n",
       "      <th>PCC_average_sec8</th>\n",
       "      <th>PCC_average_sec9</th>\n",
       "      <th>...</th>\n",
       "      <th>VMPFC_autrocorr_lag3</th>\n",
       "      <th>VMPFC_autrocorr_lag4</th>\n",
       "      <th>VMPFC_autrocorr_lag5</th>\n",
       "      <th>VMPFC_autrocorr_lag6</th>\n",
       "      <th>VMPFC_autrocorr_lag7</th>\n",
       "      <th>VMPFC_autrocorr_lag8</th>\n",
       "      <th>VMPFC_autrocorr_lag9</th>\n",
       "      <th>VMPFC_autrocorr_lag10</th>\n",
       "      <th>MMIs transformed</th>\n",
       "      <th>groups</th>\n",
       "    </tr>\n",
       "  </thead>\n",
       "  <tbody>\n",
       "    <tr>\n",
       "      <th>trial0_sub35</th>\n",
       "      <td>2427.269392</td>\n",
       "      <td>2449.197016</td>\n",
       "      <td>2431.841944</td>\n",
       "      <td>2461.966676</td>\n",
       "      <td>2482.057615</td>\n",
       "      <td>2458.933388</td>\n",
       "      <td>2475.013474</td>\n",
       "      <td>2476.074687</td>\n",
       "      <td>2486.531479</td>\n",
       "      <td>2477.284715</td>\n",
       "      <td>...</td>\n",
       "      <td>-0.213775</td>\n",
       "      <td>-0.124439</td>\n",
       "      <td>-0.237105</td>\n",
       "      <td>-0.155682</td>\n",
       "      <td>-0.148101</td>\n",
       "      <td>0.040569</td>\n",
       "      <td>-0.047175</td>\n",
       "      <td>0.139406</td>\n",
       "      <td>0.116004</td>\n",
       "      <td>35.0</td>\n",
       "    </tr>\n",
       "    <tr>\n",
       "      <th>trial1_sub35</th>\n",
       "      <td>2388.549428</td>\n",
       "      <td>2396.480397</td>\n",
       "      <td>2384.927984</td>\n",
       "      <td>2392.269412</td>\n",
       "      <td>2404.388739</td>\n",
       "      <td>2382.889047</td>\n",
       "      <td>2406.284995</td>\n",
       "      <td>2440.615534</td>\n",
       "      <td>2423.102377</td>\n",
       "      <td>2439.795029</td>\n",
       "      <td>...</td>\n",
       "      <td>-0.074161</td>\n",
       "      <td>-0.398486</td>\n",
       "      <td>-0.403244</td>\n",
       "      <td>-0.250502</td>\n",
       "      <td>-0.179627</td>\n",
       "      <td>0.043063</td>\n",
       "      <td>0.158840</td>\n",
       "      <td>-0.043090</td>\n",
       "      <td>0.091214</td>\n",
       "      <td>35.0</td>\n",
       "    </tr>\n",
       "    <tr>\n",
       "      <th>trial2_sub35</th>\n",
       "      <td>2424.828588</td>\n",
       "      <td>2418.122072</td>\n",
       "      <td>2425.433606</td>\n",
       "      <td>2412.485298</td>\n",
       "      <td>2409.210401</td>\n",
       "      <td>2423.421929</td>\n",
       "      <td>2431.522149</td>\n",
       "      <td>2418.939825</td>\n",
       "      <td>2409.055419</td>\n",
       "      <td>2411.827245</td>\n",
       "      <td>...</td>\n",
       "      <td>-0.413507</td>\n",
       "      <td>-0.232748</td>\n",
       "      <td>-0.085615</td>\n",
       "      <td>0.215164</td>\n",
       "      <td>-0.003230</td>\n",
       "      <td>0.066927</td>\n",
       "      <td>-0.103025</td>\n",
       "      <td>0.042487</td>\n",
       "      <td>0.016885</td>\n",
       "      <td>35.0</td>\n",
       "    </tr>\n",
       "    <tr>\n",
       "      <th>trial3_sub35</th>\n",
       "      <td>2381.430038</td>\n",
       "      <td>2364.265323</td>\n",
       "      <td>2380.683792</td>\n",
       "      <td>2396.744302</td>\n",
       "      <td>2391.474539</td>\n",
       "      <td>2416.142546</td>\n",
       "      <td>2437.528980</td>\n",
       "      <td>2416.328888</td>\n",
       "      <td>2429.560826</td>\n",
       "      <td>2432.957447</td>\n",
       "      <td>...</td>\n",
       "      <td>0.132034</td>\n",
       "      <td>-0.165813</td>\n",
       "      <td>-0.392908</td>\n",
       "      <td>-0.461445</td>\n",
       "      <td>-0.412328</td>\n",
       "      <td>-0.294962</td>\n",
       "      <td>-0.157906</td>\n",
       "      <td>-0.031672</td>\n",
       "      <td>0.256861</td>\n",
       "      <td>35.0</td>\n",
       "    </tr>\n",
       "    <tr>\n",
       "      <th>trial4_sub35</th>\n",
       "      <td>2380.184056</td>\n",
       "      <td>2428.885937</td>\n",
       "      <td>2436.619027</td>\n",
       "      <td>2427.290945</td>\n",
       "      <td>2408.354910</td>\n",
       "      <td>2395.741918</td>\n",
       "      <td>2393.965861</td>\n",
       "      <td>2398.296815</td>\n",
       "      <td>2398.925835</td>\n",
       "      <td>2386.927232</td>\n",
       "      <td>...</td>\n",
       "      <td>-0.369882</td>\n",
       "      <td>0.083075</td>\n",
       "      <td>0.483442</td>\n",
       "      <td>-0.124212</td>\n",
       "      <td>-0.307251</td>\n",
       "      <td>-0.221281</td>\n",
       "      <td>0.020401</td>\n",
       "      <td>0.191885</td>\n",
       "      <td>0.227219</td>\n",
       "      <td>35.0</td>\n",
       "    </tr>\n",
       "    <tr>\n",
       "      <th>trial5_sub35</th>\n",
       "      <td>2416.188579</td>\n",
       "      <td>2419.397606</td>\n",
       "      <td>2409.876668</td>\n",
       "      <td>2386.699839</td>\n",
       "      <td>2382.269725</td>\n",
       "      <td>2385.016868</td>\n",
       "      <td>2377.523042</td>\n",
       "      <td>2367.532716</td>\n",
       "      <td>2395.139226</td>\n",
       "      <td>2410.617928</td>\n",
       "      <td>...</td>\n",
       "      <td>0.048387</td>\n",
       "      <td>-0.174753</td>\n",
       "      <td>-0.240969</td>\n",
       "      <td>-0.284284</td>\n",
       "      <td>-0.388707</td>\n",
       "      <td>-0.239722</td>\n",
       "      <td>-0.093564</td>\n",
       "      <td>-0.023686</td>\n",
       "      <td>0.323954</td>\n",
       "      <td>35.0</td>\n",
       "    </tr>\n",
       "    <tr>\n",
       "      <th>trial6_sub35</th>\n",
       "      <td>2348.500744</td>\n",
       "      <td>2384.461534</td>\n",
       "      <td>2396.090790</td>\n",
       "      <td>2403.582542</td>\n",
       "      <td>2415.844710</td>\n",
       "      <td>2393.911248</td>\n",
       "      <td>2399.255060</td>\n",
       "      <td>2440.938365</td>\n",
       "      <td>2475.114179</td>\n",
       "      <td>2450.867001</td>\n",
       "      <td>...</td>\n",
       "      <td>-0.019242</td>\n",
       "      <td>0.128051</td>\n",
       "      <td>-0.159586</td>\n",
       "      <td>-0.115438</td>\n",
       "      <td>-0.119788</td>\n",
       "      <td>-0.126221</td>\n",
       "      <td>0.010008</td>\n",
       "      <td>0.079666</td>\n",
       "      <td>0.165961</td>\n",
       "      <td>35.0</td>\n",
       "    </tr>\n",
       "    <tr>\n",
       "      <th>trial7_sub35</th>\n",
       "      <td>2433.942065</td>\n",
       "      <td>2408.316583</td>\n",
       "      <td>2415.400490</td>\n",
       "      <td>2442.285870</td>\n",
       "      <td>2421.049184</td>\n",
       "      <td>2427.648909</td>\n",
       "      <td>2452.725788</td>\n",
       "      <td>2458.915012</td>\n",
       "      <td>2445.693151</td>\n",
       "      <td>2457.761761</td>\n",
       "      <td>...</td>\n",
       "      <td>0.151475</td>\n",
       "      <td>-0.079826</td>\n",
       "      <td>-0.261828</td>\n",
       "      <td>-0.117949</td>\n",
       "      <td>-0.199261</td>\n",
       "      <td>-0.298691</td>\n",
       "      <td>-0.187375</td>\n",
       "      <td>-0.045573</td>\n",
       "      <td>0.000015</td>\n",
       "      <td>35.0</td>\n",
       "    </tr>\n",
       "    <tr>\n",
       "      <th>trial8_sub35</th>\n",
       "      <td>2426.303432</td>\n",
       "      <td>2423.030108</td>\n",
       "      <td>2417.109003</td>\n",
       "      <td>2435.994486</td>\n",
       "      <td>2426.399145</td>\n",
       "      <td>2382.425599</td>\n",
       "      <td>2420.983598</td>\n",
       "      <td>2424.651027</td>\n",
       "      <td>2385.901416</td>\n",
       "      <td>2428.141014</td>\n",
       "      <td>...</td>\n",
       "      <td>-0.172514</td>\n",
       "      <td>-0.528704</td>\n",
       "      <td>-0.342396</td>\n",
       "      <td>-0.140667</td>\n",
       "      <td>-0.086493</td>\n",
       "      <td>0.045566</td>\n",
       "      <td>0.033807</td>\n",
       "      <td>-0.004395</td>\n",
       "      <td>0.247248</td>\n",
       "      <td>35.0</td>\n",
       "    </tr>\n",
       "    <tr>\n",
       "      <th>trial9_sub35</th>\n",
       "      <td>2380.512487</td>\n",
       "      <td>2425.096765</td>\n",
       "      <td>2440.966663</td>\n",
       "      <td>2429.177025</td>\n",
       "      <td>2438.341513</td>\n",
       "      <td>2451.775904</td>\n",
       "      <td>2419.769132</td>\n",
       "      <td>2415.082392</td>\n",
       "      <td>2434.236786</td>\n",
       "      <td>2402.994414</td>\n",
       "      <td>...</td>\n",
       "      <td>-0.447480</td>\n",
       "      <td>-0.511354</td>\n",
       "      <td>-0.141440</td>\n",
       "      <td>0.175734</td>\n",
       "      <td>0.102181</td>\n",
       "      <td>0.140592</td>\n",
       "      <td>0.036471</td>\n",
       "      <td>-0.078627</td>\n",
       "      <td>0.040889</td>\n",
       "      <td>35.0</td>\n",
       "    </tr>\n",
       "  </tbody>\n",
       "</table>\n",
       "<p>10 rows × 260 columns</p>\n",
       "</div>"
      ],
      "text/plain": [
       "              PCC_average_sec0  PCC_average_sec1  PCC_average_sec2   \n",
       "trial0_sub35       2427.269392       2449.197016       2431.841944  \\\n",
       "trial1_sub35       2388.549428       2396.480397       2384.927984   \n",
       "trial2_sub35       2424.828588       2418.122072       2425.433606   \n",
       "trial3_sub35       2381.430038       2364.265323       2380.683792   \n",
       "trial4_sub35       2380.184056       2428.885937       2436.619027   \n",
       "trial5_sub35       2416.188579       2419.397606       2409.876668   \n",
       "trial6_sub35       2348.500744       2384.461534       2396.090790   \n",
       "trial7_sub35       2433.942065       2408.316583       2415.400490   \n",
       "trial8_sub35       2426.303432       2423.030108       2417.109003   \n",
       "trial9_sub35       2380.512487       2425.096765       2440.966663   \n",
       "\n",
       "              PCC_average_sec3  PCC_average_sec4  PCC_average_sec5   \n",
       "trial0_sub35       2461.966676       2482.057615       2458.933388  \\\n",
       "trial1_sub35       2392.269412       2404.388739       2382.889047   \n",
       "trial2_sub35       2412.485298       2409.210401       2423.421929   \n",
       "trial3_sub35       2396.744302       2391.474539       2416.142546   \n",
       "trial4_sub35       2427.290945       2408.354910       2395.741918   \n",
       "trial5_sub35       2386.699839       2382.269725       2385.016868   \n",
       "trial6_sub35       2403.582542       2415.844710       2393.911248   \n",
       "trial7_sub35       2442.285870       2421.049184       2427.648909   \n",
       "trial8_sub35       2435.994486       2426.399145       2382.425599   \n",
       "trial9_sub35       2429.177025       2438.341513       2451.775904   \n",
       "\n",
       "              PCC_average_sec6  PCC_average_sec7  PCC_average_sec8   \n",
       "trial0_sub35       2475.013474       2476.074687       2486.531479  \\\n",
       "trial1_sub35       2406.284995       2440.615534       2423.102377   \n",
       "trial2_sub35       2431.522149       2418.939825       2409.055419   \n",
       "trial3_sub35       2437.528980       2416.328888       2429.560826   \n",
       "trial4_sub35       2393.965861       2398.296815       2398.925835   \n",
       "trial5_sub35       2377.523042       2367.532716       2395.139226   \n",
       "trial6_sub35       2399.255060       2440.938365       2475.114179   \n",
       "trial7_sub35       2452.725788       2458.915012       2445.693151   \n",
       "trial8_sub35       2420.983598       2424.651027       2385.901416   \n",
       "trial9_sub35       2419.769132       2415.082392       2434.236786   \n",
       "\n",
       "              PCC_average_sec9  ...  VMPFC_autrocorr_lag3   \n",
       "trial0_sub35       2477.284715  ...             -0.213775  \\\n",
       "trial1_sub35       2439.795029  ...             -0.074161   \n",
       "trial2_sub35       2411.827245  ...             -0.413507   \n",
       "trial3_sub35       2432.957447  ...              0.132034   \n",
       "trial4_sub35       2386.927232  ...             -0.369882   \n",
       "trial5_sub35       2410.617928  ...              0.048387   \n",
       "trial6_sub35       2450.867001  ...             -0.019242   \n",
       "trial7_sub35       2457.761761  ...              0.151475   \n",
       "trial8_sub35       2428.141014  ...             -0.172514   \n",
       "trial9_sub35       2402.994414  ...             -0.447480   \n",
       "\n",
       "              VMPFC_autrocorr_lag4  VMPFC_autrocorr_lag5   \n",
       "trial0_sub35             -0.124439             -0.237105  \\\n",
       "trial1_sub35             -0.398486             -0.403244   \n",
       "trial2_sub35             -0.232748             -0.085615   \n",
       "trial3_sub35             -0.165813             -0.392908   \n",
       "trial4_sub35              0.083075              0.483442   \n",
       "trial5_sub35             -0.174753             -0.240969   \n",
       "trial6_sub35              0.128051             -0.159586   \n",
       "trial7_sub35             -0.079826             -0.261828   \n",
       "trial8_sub35             -0.528704             -0.342396   \n",
       "trial9_sub35             -0.511354             -0.141440   \n",
       "\n",
       "              VMPFC_autrocorr_lag6  VMPFC_autrocorr_lag7   \n",
       "trial0_sub35             -0.155682             -0.148101  \\\n",
       "trial1_sub35             -0.250502             -0.179627   \n",
       "trial2_sub35              0.215164             -0.003230   \n",
       "trial3_sub35             -0.461445             -0.412328   \n",
       "trial4_sub35             -0.124212             -0.307251   \n",
       "trial5_sub35             -0.284284             -0.388707   \n",
       "trial6_sub35             -0.115438             -0.119788   \n",
       "trial7_sub35             -0.117949             -0.199261   \n",
       "trial8_sub35             -0.140667             -0.086493   \n",
       "trial9_sub35              0.175734              0.102181   \n",
       "\n",
       "              VMPFC_autrocorr_lag8  VMPFC_autrocorr_lag9   \n",
       "trial0_sub35              0.040569             -0.047175  \\\n",
       "trial1_sub35              0.043063              0.158840   \n",
       "trial2_sub35              0.066927             -0.103025   \n",
       "trial3_sub35             -0.294962             -0.157906   \n",
       "trial4_sub35             -0.221281              0.020401   \n",
       "trial5_sub35             -0.239722             -0.093564   \n",
       "trial6_sub35             -0.126221              0.010008   \n",
       "trial7_sub35             -0.298691             -0.187375   \n",
       "trial8_sub35              0.045566              0.033807   \n",
       "trial9_sub35              0.140592              0.036471   \n",
       "\n",
       "              VMPFC_autrocorr_lag10  MMIs transformed  groups  \n",
       "trial0_sub35               0.139406          0.116004    35.0  \n",
       "trial1_sub35              -0.043090          0.091214    35.0  \n",
       "trial2_sub35               0.042487          0.016885    35.0  \n",
       "trial3_sub35              -0.031672          0.256861    35.0  \n",
       "trial4_sub35               0.191885          0.227219    35.0  \n",
       "trial5_sub35              -0.023686          0.323954    35.0  \n",
       "trial6_sub35               0.079666          0.165961    35.0  \n",
       "trial7_sub35              -0.045573          0.000015    35.0  \n",
       "trial8_sub35              -0.004395          0.247248    35.0  \n",
       "trial9_sub35              -0.078627          0.040889    35.0  \n",
       "\n",
       "[10 rows x 260 columns]"
      ]
     },
     "execution_count": 203,
     "metadata": {},
     "output_type": "execute_result"
    }
   ],
   "source": [
    "MMIs_transformed = np.reshape(MMIs_transformed, (3124,1))\n",
    "combined_data = np.hstack((averages, variances, skewness, autocorrelations, MMIs_transformed, groups))\n",
    "df = pd.DataFrame(combined_data, index=row_names, columns=column_names)\n",
    "\n",
    "df.loc[groups == 35].head(10)"
   ]
  },
  {
   "cell_type": "markdown",
   "metadata": {},
   "source": [
    "Remove outliars"
   ]
  },
  {
   "cell_type": "code",
   "execution_count": 213,
   "metadata": {},
   "outputs": [],
   "source": [
    "cols = df.columns.values\n",
    "cols = cols[:-2]\n",
    "#df[cols[0]].hist()\n",
    "for i in range(len(cols)):\n",
    "    colser = df[cols[i]]\n",
    "    colser = (colser-np.mean(colser))/np.std(colser)\n",
    "    #colser.hist()\n",
    "    if(len(colser[colser>3] > 0)):\n",
    "        #print(cols[i])\n",
    "        #print(\"above 3\")\n",
    "        #print(colser[colser>3])\n",
    "        #print(\"here\")\n",
    "        #print(colser[colser>3].index.values)\n",
    "        for idx in colser[colser>3].index.values:\n",
    "            if(idx in df.index):\n",
    "                df = df.drop([idx])\n",
    "    if(len(colser[colser<-3]) > 0):\n",
    "        #print(cols[i])\n",
    "        #print(\"below -3\")\n",
    "        #print(colser[colser<-3])\n",
    "        for idx in colser[colser<-3].index.values:\n",
    "            if(idx in df.index):\n",
    "                df = df.drop([idx])\n",
    "        \n",
    "    "
   ]
  },
  {
   "cell_type": "code",
   "execution_count": 263,
   "metadata": {},
   "outputs": [
    {
     "data": {
      "text/plain": [
       "(2048, 260)"
      ]
     },
     "execution_count": 263,
     "metadata": {},
     "output_type": "execute_result"
    }
   ],
   "source": [
    "df.shape"
   ]
  },
  {
   "attachments": {},
   "cell_type": "markdown",
   "metadata": {},
   "source": [
    "PLOT THE DATA"
   ]
  },
  {
   "cell_type": "markdown",
   "metadata": {},
   "source": [
    "Y data"
   ]
  },
  {
   "cell_type": "code",
   "execution_count": 230,
   "metadata": {},
   "outputs": [
    {
     "data": {
      "image/png": "[encoded data removed]",
      "text/plain": [
       "<Figure size 432x288 with 1 Axes>"
      ]
     },
     "metadata": {
      "needs_background": "light"
     },
     "output_type": "display_data"
    },
    {
     "data": {
      "text/plain": [
       "<Figure size 1440x720 with 0 Axes>"
      ]
     },
     "metadata": {},
     "output_type": "display_data"
    }
   ],
   "source": [
    "plt.hist(MMIs_transformed, bins=30, alpha = 0.3)\n",
    "plt.xlabel(\"Cube Root of MMI Scores\", fontsize=17)\n",
    "plt.title(\"MMI Scores after Transformation\", fontsize=17)\n",
    "plt.xticks(fontsize=17)\n",
    "plt.yticks(fontsize=17)\n",
    "plt.figure(figsize=(20, 10))\n",
    "plt.show()\n"
   ]
  },
  {
   "cell_type": "code",
   "execution_count": 231,
   "metadata": {},
   "outputs": [
    {
     "data": {
      "image/png": "[encoded data removed]",
      "text/plain": [
       "<Figure size 432x288 with 1 Axes>"
      ]
     },
     "metadata": {
      "needs_background": "light"
     },
     "output_type": "display_data"
    },
    {
     "data": {
      "text/plain": [
       "<Figure size 1440x720 with 0 Axes>"
      ]
     },
     "metadata": {},
     "output_type": "display_data"
    }
   ],
   "source": [
    "#plt.hist(log_MMIs, bins=30, alpha = 0.3)\n",
    "plt.hist(all_MMIs_by_trials, bins = 30, alpha = 0.3)\n",
    "plt.xlabel(\"MMI Scores\", fontsize=17)\n",
    "plt.title(\"MMI Scores before Transformation\", fontsize=17)\n",
    "plt.xticks(fontsize=17)\n",
    "plt.yticks(fontsize=17)\n",
    "plt.figure(figsize=(20, 10))\n",
    "plt.show()\n"
   ]
  },
  {
   "cell_type": "markdown",
   "metadata": {},
   "source": [
    "Y data without outliars"
   ]
  },
  {
   "cell_type": "code",
   "execution_count": 232,
   "metadata": {},
   "outputs": [
    {
     "data": {
      "image/png": "[encoded data removed]",
      "text/plain": [
       "<Figure size 432x288 with 1 Axes>"
      ]
     },
     "metadata": {
      "needs_background": "light"
     },
     "output_type": "display_data"
    },
    {
     "data": {
      "text/plain": [
       "<Figure size 1440x720 with 0 Axes>"
      ]
     },
     "metadata": {},
     "output_type": "display_data"
    }
   ],
   "source": [
    "plt.hist(df['MMIs transformed'], bins=30, alpha = 0.3)\n",
    "plt.xlabel(\"Cube Root of MMI Scores\", fontsize=17)\n",
    "plt.title(\"MMI Scores after Transformation\", fontsize=17)\n",
    "plt.xticks(fontsize=17)\n",
    "plt.yticks(fontsize=17)\n",
    "plt.figure(figsize=(20, 10))\n",
    "plt.show()\n"
   ]
  },
  {
   "cell_type": "code",
   "execution_count": 25,
   "metadata": {},
   "outputs": [
    {
     "data": {
      "image/png": "[encoded data removed]",
      "text/plain": [
       "<Figure size 432x288 with 1 Axes>"
      ]
     },
     "metadata": {
      "needs_background": "light"
     },
     "output_type": "display_data"
    },
    {
     "data": {
      "image/png": "[encoded data removed]",
      "text/plain": [
       "<Figure size 432x288 with 2 Axes>"
      ]
     },
     "metadata": {
      "needs_background": "light"
     },
     "output_type": "display_data"
    },
    {
     "data": {
      "image/png": "[encoded data removed]",
      "text/plain": [
       "<Figure size 432x288 with 1 Axes>"
      ]
     },
     "metadata": {
      "needs_background": "light"
     },
     "output_type": "display_data"
    },
    {
     "data": {
      "image/png": "[encoded data removed]",
      "text/plain": [
       "<Figure size 432x288 with 2 Axes>"
      ]
     },
     "metadata": {
      "needs_background": "light"
     },
     "output_type": "display_data"
    }
   ],
   "source": [
    "plt.hist(averages[3100], bins=10, alpha = 0.3)\n",
    "#plt.hist(all_MMIs_by_trials, bins = 30, alpha = 0.3)\n",
    "plt.xlabel('average')\n",
    "plt.ylabel('frequency')\n",
    "plt.title('averages')\n",
    "plt.show()\n",
    "\n",
    "correlation_matrix = np.corrcoef(averages.T)\n",
    "\n",
    "plt.imshow(correlation_matrix, cmap='coolwarm', interpolation='nearest', vmin=-1, vmax=1)\n",
    "plt.colorbar()\n",
    "plt.title('Averages per ROI Correlation Matrix', fontsize=17)\n",
    "plt.xticks([], fontsize=17)\n",
    "plt.yticks([], fontsize=17)\n",
    "plt.xlabel('Averages per ROIS', fontsize=17)\n",
    "plt.ylabel('Averages per ROIS', fontsize=17)\n",
    "\n",
    "# Display the heatmap\n",
    "plt.show()\n",
    "\n",
    "plt.hist(variances, bins=30, alpha = 0.3)\n",
    "#plt.hist(all_MMIs_by_trials, bins = 30, alpha = 0.3)\n",
    "plt.xlabel('variance')\n",
    "plt.ylabel('frequency')\n",
    "plt.title('variances')\n",
    "plt.show()\n",
    "\n",
    "correlation_matrix = np.corrcoef(variances.T)\n",
    "\n",
    "plt.imshow(correlation_matrix, cmap='coolwarm', interpolation='nearest', vmin=-1, vmax=1)\n",
    "plt.colorbar()\n",
    "plt.title('Variances per ROI Correlation Matrix', fontsize=17)\n",
    "plt.xticks([], fontsize=17)\n",
    "plt.yticks([], fontsize=17)\n",
    "plt.xlabel('Variances per ROIS', fontsize=17)\n",
    "plt.ylabel('Variances per ROIS', fontsize=17)\n",
    "\n",
    "# Display the heatmap\n",
    "plt.show()"
   ]
  },
  {
   "cell_type": "code",
   "execution_count": 280,
   "metadata": {},
   "outputs": [
    {
     "data": {
      "image/png": "[encoded data removed]",
      "text/plain": [
       "<Figure size 432x288 with 2 Axes>"
      ]
     },
     "metadata": {
      "needs_background": "light"
     },
     "output_type": "display_data"
    }
   ],
   "source": [
    "correlation_matrix = np.corrcoef(skewness.T)\n",
    "\n",
    "plt.imshow(correlation_matrix, cmap='coolwarm', interpolation='nearest', vmin=-1, vmax=1)\n",
    "plt.colorbar()\n",
    "plt.title('Skewness per ROI Correlation Matrix', fontsize=17)\n",
    "plt.xticks([], fontsize=17)\n",
    "plt.yticks([], fontsize=17)\n",
    "plt.xlabel('Skewness per ROIS', fontsize=17)\n",
    "plt.ylabel('Skewness per ROIS', fontsize=17)\n",
    "\n",
    "# Display the heatmap\n",
    "plt.show()\n"
   ]
  },
  {
   "cell_type": "code",
   "execution_count": 276,
   "metadata": {},
   "outputs": [
    {
     "data": {
      "text/plain": [
       "(3124, 60)"
      ]
     },
     "execution_count": 276,
     "metadata": {},
     "output_type": "execute_result"
    }
   ],
   "source": [
    "autocorrelations.shape"
   ]
  },
  {
   "cell_type": "code",
   "execution_count": 279,
   "metadata": {},
   "outputs": [
    {
     "data": {
      "image/png": "[encoded data removed]",
      "text/plain": [
       "<Figure size 432x288 with 2 Axes>"
      ]
     },
     "metadata": {
      "needs_background": "light"
     },
     "output_type": "display_data"
    }
   ],
   "source": [
    "correlation_matrix = np.corrcoef(autocorrelations.T)\n",
    "\n",
    "plt.imshow(correlation_matrix, cmap='coolwarm', interpolation='nearest', vmin=-1, vmax=1)\n",
    "plt.colorbar()\n",
    "plt.title('Autocorrelations per ROI Correlation Matrix', fontsize=15)\n",
    "plt.xticks([], fontsize=17)\n",
    "plt.yticks([], fontsize=17)\n",
    "plt.xlabel('Autocorrelations per ROIS', fontsize=17)\n",
    "plt.ylabel('Autocorrelations per ROIS', fontsize=17)\n",
    "\n",
    "# Display the heatmap\n",
    "plt.show()\n"
   ]
  },
  {
   "attachments": {},
   "cell_type": "markdown",
   "metadata": {},
   "source": [
    "perform linear regression wiht leave group out cross validation and normalize features during the process"
   ]
  },
  {
   "attachments": {},
   "cell_type": "markdown",
   "metadata": {},
   "source": [
    "Linear regression Model"
   ]
  },
  {
   "cell_type": "code",
   "execution_count": 291,
   "metadata": {},
   "outputs": [
    {
     "name": "stdout",
     "output_type": "stream",
     "text": [
      "Test score: -0.2060\n",
      "Train score: 0.2920\n",
      "Test score: -0.8967\n",
      "Train score: 0.2951\n",
      "Test score: -3.4945\n",
      "Train score: 0.2992\n",
      "Test score: -0.9027\n",
      "Train score: 0.2956\n",
      "Test score: -0.7166\n",
      "Train score: 0.2850\n",
      "Test score: -0.3285\n",
      "Train score: 0.2899\n",
      "Test score: -0.6480\n",
      "Train score: 0.2900\n",
      "Test score: -0.0834\n",
      "Train score: 0.2872\n",
      "Test score: -0.4022\n",
      "Train score: 0.2948\n",
      "Test score: -0.7415\n",
      "Train score: 0.2950\n",
      "Test score: -0.1689\n",
      "Train score: 0.2876\n",
      "Test score: -0.8769\n",
      "Train score: 0.2966\n",
      "Test score: -0.1868\n",
      "Train score: 0.2889\n",
      "Test score: -0.2215\n",
      "Train score: 0.2945\n",
      "Test score: -1.1228\n",
      "Train score: 0.3044\n",
      "Test score: -4.0855\n",
      "Train score: 0.2908\n",
      "Test score: -0.8755\n",
      "Train score: 0.2879\n",
      "Test score: -27.0883\n",
      "Train score: 0.3049\n",
      "Test score: -1.5031\n",
      "Train score: 0.2817\n",
      "Test score: -0.1101\n",
      "Train score: 0.2866\n",
      "Test score: -1.3757\n",
      "Train score: 0.2635\n",
      "Test score: -1.8260\n",
      "Train score: 0.2963\n",
      "Test score: -0.4442\n",
      "Train score: 0.2886\n",
      "Test score: -0.9769\n",
      "Train score: 0.2970\n",
      "Test score: -0.3439\n",
      "Train score: 0.2910\n",
      "Test score: -1.5009\n",
      "Train score: 0.2926\n",
      "Test score: -28.7614\n",
      "Train score: 0.2909\n",
      "Test score: -0.6061\n",
      "Train score: 0.2904\n",
      "Test score: -1.2251\n",
      "Train score: 0.2926\n",
      "Test score: -0.5219\n",
      "Train score: 0.2844\n",
      "Test score: -0.3576\n",
      "Train score: 0.2946\n",
      "Test score: -1.4439\n",
      "Train score: 0.2926\n",
      "Test score: -0.1913\n",
      "Train score: 0.2927\n",
      "Test score: -1.2886\n",
      "Train score: 0.2980\n",
      "Test score: -6.5825\n",
      "Train score: 0.2959\n"
     ]
    }
   ],
   "source": [
    "X = df[column_names[:-2]]\n",
    "y = df['MMIs transformed']\n",
    "groups_for_cv = df['groups']\n",
    "logo = LeaveOneGroupOut()\n",
    "models = []\n",
    "linear_regression_mse_scores = []\n",
    "linear_regression_r2_scores = []\n",
    "y_tests = np.array([])\n",
    "predictions = np.array([])\n",
    "linear_regression_correlations = []\n",
    "for train_index, test_index in logo.split(X, y, groups_for_cv):\n",
    "    model = LinearRegression()\n",
    "    X_scaler = StandardScaler()\n",
    "    y_scaler = StandardScaler()\n",
    "    X_train, X_test = X.iloc[train_index], X.iloc[test_index]\n",
    "    y_train, y_test = y.iloc[train_index], y.iloc[test_index]\n",
    "    #Normalize X_train, X_test, y_train, y_test\n",
    "    X_train = X_scaler.fit_transform(X_train)\n",
    "    X_test = X_scaler.transform(X_test)\n",
    "    y_train = np.reshape(y_train, (y_train.shape[0],1))\n",
    "    y_test = np.reshape(y_test, (y_test.shape[0],1))\n",
    "    y_train = y_scaler.fit_transform(y_train)\n",
    "    y_test = y_scaler.transform(y_test)\n",
    "    # Fit the linear regression model on the training data\n",
    "    model.fit(X_train, y_train)\n",
    "    models.append(model)\n",
    "    # Evaluate the linear regression model on the test data\n",
    "    score = model.score(X_test, y_test)\n",
    "    y_pred = model.predict(X_test)\n",
    "    y_pred = np.reshape(y_pred, (y_pred.shape[0]))\n",
    "    linear_regression_mse_scores.append(mean_squared_error(y_test, y_pred))\n",
    "    linear_regression_r2_scores.append(r2_score(y_test, y_pred))\n",
    "    predictions = np.concatenate((predictions, y_pred), axis = 0)\n",
    "    y_test = np.reshape(y_test, (y_test.shape[0],))\n",
    "    y_tests = np.concatenate((y_tests, y_test), axis = 0)\n",
    "    linear_regression_correlations.append(np.corrcoef(y_test, y_pred)[0,1])\n",
    "    train_score = model.score(X_train, y_train)\n",
    "    print(f\"Test score: {score:.4f}\")\n",
    "    print(f\"Train score: {train_score:.4f}\")\n",
    "\n"
   ]
  },
  {
   "cell_type": "code",
   "execution_count": 292,
   "metadata": {},
   "outputs": [
    {
     "data": {
      "text/plain": [
       "1.4951510513261281"
      ]
     },
     "execution_count": 292,
     "metadata": {},
     "output_type": "execute_result"
    }
   ],
   "source": [
    "np.mean(linear_regression_mse_scores)"
   ]
  },
  {
   "cell_type": "code",
   "execution_count": 293,
   "metadata": {},
   "outputs": [
    {
     "data": {
      "text/plain": [
       "-2.6315879591574145"
      ]
     },
     "execution_count": 293,
     "metadata": {},
     "output_type": "execute_result"
    }
   ],
   "source": [
    "np.mean(linear_regression_r2_scores)"
   ]
  },
  {
   "cell_type": "code",
   "execution_count": 250,
   "metadata": {},
   "outputs": [
    {
     "data": {
      "image/png": "[encoded data removed]",
      "text/plain": [
       "<Figure size 432x288 with 1 Axes>"
      ]
     },
     "metadata": {
      "needs_background": "light"
     },
     "output_type": "display_data"
    },
    {
     "data": {
      "text/plain": [
       "<Figure size 1440x720 with 0 Axes>"
      ]
     },
     "metadata": {},
     "output_type": "display_data"
    }
   ],
   "source": [
    "plt.hist(linear_regression_correlations)\n",
    "plt.xlabel(\"Correlation\", fontsize=15)\n",
    "plt.title(\"Linear Regression Correlations\", fontsize=15)\n",
    "plt.xticks(fontsize=15)\n",
    "plt.yticks(fontsize=15)\n",
    "plt.figure(figsize=(20, 10))\n",
    "plt.show()"
   ]
  },
  {
   "cell_type": "code",
   "execution_count": 281,
   "metadata": {},
   "outputs": [
    {
     "data": {
      "text/plain": [
       "0.05555650940670835"
      ]
     },
     "execution_count": 281,
     "metadata": {},
     "output_type": "execute_result"
    }
   ],
   "source": [
    "np.mean(linear_regression_correlations)"
   ]
  },
  {
   "cell_type": "code",
   "execution_count": 251,
   "metadata": {},
   "outputs": [
    {
     "data": {
      "text/plain": [
       "(array([ 17.,  67., 216., 295., 459., 444., 323., 159.,  56.,  12.]),\n",
       " array([-2.01820854, -1.61400555, -1.20980256, -0.80559958, -0.40139659,\n",
       "         0.00280639,  0.40700938,  0.81121237,  1.21541535,  1.61961834,\n",
       "         2.02382132]),\n",
       " <BarContainer object of 10 artists>)"
      ]
     },
     "execution_count": 251,
     "metadata": {},
     "output_type": "execute_result"
    },
    {
     "data": {
      "image/png": "[encoded data removed]",
      "text/plain": [
       "<Figure size 432x288 with 1 Axes>"
      ]
     },
     "metadata": {
      "needs_background": "light"
     },
     "output_type": "display_data"
    }
   ],
   "source": [
    "plt.hist(y_tests, alpha=0.3)\n",
    "plt.hist(predictions, alpha=0.3)\n"
   ]
  },
  {
   "cell_type": "code",
   "execution_count": 252,
   "metadata": {},
   "outputs": [
    {
     "data": {
      "image/png": "[encoded data removed]",
      "text/plain": [
       "<Figure size 432x288 with 1 Axes>"
      ]
     },
     "metadata": {
      "needs_background": "light"
     },
     "output_type": "display_data"
    },
    {
     "data": {
      "text/plain": [
       "<Figure size 1440x720 with 0 Axes>"
      ]
     },
     "metadata": {},
     "output_type": "display_data"
    }
   ],
   "source": [
    "plt.scatter(predictions, y_tests)\n",
    "plt.xlabel(\"Predictions\", fontsize=15)\n",
    "plt.ylabel(\"MMI Score\", fontsize=15)\n",
    "plt.title(\"Linear Regression result scatter plot\", fontsize=15)\n",
    "plt.xticks(fontsize=15)\n",
    "plt.yticks(fontsize=15)\n",
    "plt.figure(figsize=(20, 10))\n",
    "plt.show()"
   ]
  },
  {
   "cell_type": "code",
   "execution_count": 253,
   "metadata": {},
   "outputs": [
    {
     "data": {
      "text/plain": [
       "0.05555650940670835"
      ]
     },
     "execution_count": 253,
     "metadata": {},
     "output_type": "execute_result"
    },
    {
     "data": {
      "image/png": "[encoded data removed]",
      "text/plain": [
       "<Figure size 432x288 with 1 Axes>"
      ]
     },
     "metadata": {
      "needs_background": "light"
     },
     "output_type": "display_data"
    }
   ],
   "source": [
    "#print(np.corrcoef(y_tests, predictions)[0, 1]) #correlation over all the results\n",
    "plt.hist(linear_regression_correlations)\n",
    "np.mean(linear_regression_correlations) #mean correlation of each group\n"
   ]
  },
  {
   "cell_type": "code",
   "execution_count": 254,
   "metadata": {},
   "outputs": [
    {
     "data": {
      "text/plain": [
       "1.4951510513261281"
      ]
     },
     "execution_count": 254,
     "metadata": {},
     "output_type": "execute_result"
    },
    {
     "data": {
      "image/png": "[encoded data removed]",
      "text/plain": [
       "<Figure size 432x288 with 1 Axes>"
      ]
     },
     "metadata": {
      "needs_background": "light"
     },
     "output_type": "display_data"
    }
   ],
   "source": [
    "plt.hist(mse_scores)\n",
    "np.mean(mse_scores)\n"
   ]
  },
  {
   "attachments": {},
   "cell_type": "markdown",
   "metadata": {},
   "source": [
    "Linear Regression with ridge regularization"
   ]
  },
  {
   "cell_type": "code",
   "execution_count": 294,
   "metadata": {},
   "outputs": [
    {
     "name": "stdout",
     "output_type": "stream",
     "text": [
      "Test score: -0.2059\n",
      "Train score: 0.2920\n",
      "Test score: -0.8955\n",
      "Train score: 0.2951\n",
      "Test score: -3.4921\n",
      "Train score: 0.2992\n",
      "Test score: -0.9023\n",
      "Train score: 0.2956\n",
      "Test score: -0.7160\n",
      "Train score: 0.2850\n",
      "Test score: -0.3281\n",
      "Train score: 0.2899\n",
      "Test score: -0.6481\n",
      "Train score: 0.2900\n",
      "Test score: -0.0831\n",
      "Train score: 0.2872\n",
      "Test score: -0.4018\n",
      "Train score: 0.2948\n",
      "Test score: -0.7404\n",
      "Train score: 0.2950\n",
      "Test score: -0.1687\n",
      "Train score: 0.2876\n",
      "Test score: -0.8766\n",
      "Train score: 0.2966\n",
      "Test score: -0.1867\n",
      "Train score: 0.2889\n",
      "Test score: -0.2213\n",
      "Train score: 0.2945\n",
      "Test score: -1.1224\n",
      "Train score: 0.3044\n",
      "Test score: -4.0850\n",
      "Train score: 0.2908\n",
      "Test score: -0.8755\n",
      "Train score: 0.2879\n",
      "Test score: -27.0878\n",
      "Train score: 0.3049\n",
      "Test score: -1.5027\n",
      "Train score: 0.2817\n",
      "Test score: -0.1102\n",
      "Train score: 0.2866\n",
      "Test score: -1.3754\n",
      "Train score: 0.2635\n",
      "Test score: -1.8245\n",
      "Train score: 0.2963\n",
      "Test score: -0.4442\n",
      "Train score: 0.2886\n",
      "Test score: -0.9764\n",
      "Train score: 0.2970\n",
      "Test score: -0.3439\n",
      "Train score: 0.2910\n",
      "Test score: -1.5001\n",
      "Train score: 0.2926\n",
      "Test score: -28.7565\n",
      "Train score: 0.2909\n",
      "Test score: -0.6061\n",
      "Train score: 0.2904\n",
      "Test score: -1.2246\n",
      "Train score: 0.2926\n",
      "Test score: -0.5215\n",
      "Train score: 0.2844\n",
      "Test score: -0.3573\n",
      "Train score: 0.2946\n",
      "Test score: -1.4429\n",
      "Train score: 0.2926\n",
      "Test score: -0.1909\n",
      "Train score: 0.2927\n",
      "Test score: -1.2887\n",
      "Train score: 0.2980\n",
      "Test score: -6.5816\n",
      "Train score: 0.2959\n"
     ]
    }
   ],
   "source": [
    "X = df[column_names[:-2]]\n",
    "y = df['MMIs transformed']\n",
    "groups_for_cv = df['groups']\n",
    "logo = LeaveOneGroupOut()\n",
    "models = []\n",
    "ridge_mse_scores = []\n",
    "ridge_r2_scores = []\n",
    "y_tests = np.array([])\n",
    "predictions = np.array([])\n",
    "ridge_correlations = []\n",
    "for train_index, test_index in logo.split(X, y, groups_for_cv):\n",
    "    model = Ridge(alpha=0.001)\n",
    "    X_scaler = StandardScaler()\n",
    "    y_scaler = StandardScaler()\n",
    "    X_train, X_test = X.iloc[train_index], X.iloc[test_index]\n",
    "    y_train, y_test = y.iloc[train_index], y.iloc[test_index]\n",
    "    #Normalize X_train, X_test, y_train, y_test\n",
    "    X_train = X_scaler.fit_transform(X_train)\n",
    "    X_test = X_scaler.transform(X_test)\n",
    "    y_train = np.reshape(y_train, (y_train.shape[0],1))\n",
    "    y_test = np.reshape(y_test, (y_test.shape[0],1))\n",
    "    y_train = y_scaler.fit_transform(y_train)\n",
    "    y_test = y_scaler.transform(y_test)\n",
    "    # Fit the linear regression model on the training data\n",
    "    model.fit(X_train, y_train)\n",
    "    models.append(model)\n",
    "    # Evaluate the linear regression model on the test data\n",
    "    score = model.score(X_test, y_test)\n",
    "    y_pred = model.predict(X_test)\n",
    "    y_pred = np.reshape(y_pred, (y_pred.shape[0]))\n",
    "    ridge_mse_scores.append(mean_squared_error(y_test, y_pred))\n",
    "    ridge_r2_scores.append(r2_score(y_test, y_pred))\n",
    "    predictions = np.concatenate((predictions, y_pred), axis = 0)\n",
    "    y_test = np.reshape(y_test, (y_test.shape[0],))\n",
    "    y_tests = np.concatenate((y_tests, y_test), axis = 0)\n",
    "    ridge_correlations.append(np.corrcoef(y_test, y_pred)[0,1])\n",
    "    train_score = model.score(X_train, y_train)\n",
    "    print(f\"Test score: {score:.4f}\")\n",
    "    print(f\"Train score: {train_score:.4f}\")"
   ]
  },
  {
   "cell_type": "code",
   "execution_count": 296,
   "metadata": {},
   "outputs": [
    {
     "data": {
      "text/plain": [
       "1.494865726174572"
      ]
     },
     "execution_count": 296,
     "metadata": {},
     "output_type": "execute_result"
    }
   ],
   "source": [
    "np.mean(ridge_mse_scores)"
   ]
  },
  {
   "cell_type": "code",
   "execution_count": 297,
   "metadata": {},
   "outputs": [
    {
     "data": {
      "text/plain": [
       "-2.6309951334076738"
      ]
     },
     "execution_count": 297,
     "metadata": {},
     "output_type": "execute_result"
    }
   ],
   "source": [
    "np.mean(ridge_r2_scores)"
   ]
  },
  {
   "cell_type": "code",
   "execution_count": 284,
   "metadata": {},
   "outputs": [
    {
     "data": {
      "text/plain": [
       "0.055543318813081645"
      ]
     },
     "execution_count": 284,
     "metadata": {},
     "output_type": "execute_result"
    },
    {
     "data": {
      "image/png": "[encoded data removed]",
      "text/plain": [
       "<Figure size 432x288 with 1 Axes>"
      ]
     },
     "metadata": {
      "needs_background": "light"
     },
     "output_type": "display_data"
    },
    {
     "data": {
      "text/plain": [
       "<Figure size 1440x720 with 0 Axes>"
      ]
     },
     "metadata": {},
     "output_type": "display_data"
    }
   ],
   "source": [
    "#print(np.corrcoef(y_tests, predictions)[0, 1]) #correlation over all the results\n",
    "plt.hist(ridge_correlations)\n",
    "plt.xlabel(\"Correlation\", fontsize=15)\n",
    "plt.title(\"Ridge Regression Correlations\", fontsize=15)\n",
    "plt.xticks(fontsize=15)\n",
    "plt.yticks(fontsize=15)\n",
    "plt.figure(figsize=(20, 10))\n",
    "np.mean(ridge_correlations) #mean correlation of each group"
   ]
  },
  {
   "cell_type": "code",
   "execution_count": 241,
   "metadata": {},
   "outputs": [
    {
     "data": {
      "text/plain": [
       "1.494865726174572"
      ]
     },
     "execution_count": 241,
     "metadata": {},
     "output_type": "execute_result"
    },
    {
     "data": {
      "image/png": "[encoded data removed]",
      "text/plain": [
       "<Figure size 432x288 with 1 Axes>"
      ]
     },
     "metadata": {
      "needs_background": "light"
     },
     "output_type": "display_data"
    }
   ],
   "source": [
    "plt.hist(mse_scores)\n",
    "np.mean(mse_scores)"
   ]
  },
  {
   "attachments": {},
   "cell_type": "markdown",
   "metadata": {},
   "source": [
    "XGBregressor"
   ]
  },
  {
   "cell_type": "code",
   "execution_count": 242,
   "metadata": {},
   "outputs": [],
   "source": [
    "X = df[column_names[:-2]]\n",
    "y = df['MMIs transformed']\n",
    "groups_for_cv = df['groups']\n",
    "logo = LeaveOneGroupOut()\n",
    "models = []\n",
    "mse_scores = []\n",
    "y_tests = np.array([])\n",
    "predictions = np.array([])\n",
    "xgb_correlations = []\n",
    "for train_index, test_index in logo.split(X, y, groups_for_cv):\n",
    "    model = XGBRegressor(max_depth=1000)\n",
    "    X_scaler = StandardScaler()\n",
    "    y_scaler = StandardScaler()\n",
    "    X_train, X_test = X.iloc[train_index], X.iloc[test_index]\n",
    "    y_train, y_test = y.iloc[train_index], y.iloc[test_index]\n",
    "    #Normalize X_train, X_test, y_train, y_test\n",
    "    X_train = X_scaler.fit_transform(X_train)\n",
    "    X_test = X_scaler.transform(X_test)\n",
    "    y_train = np.reshape(y_train, (y_train.shape[0],1))\n",
    "    y_test = np.reshape(y_test, (y_test.shape[0],1))\n",
    "    y_train = y_scaler.fit_transform(y_train)\n",
    "    y_test = y_scaler.transform(y_test)\n",
    "    # Fit the linear regression model on the training data\n",
    "    model.fit(X_train, y_train)\n",
    "    models.append(model)\n",
    "    # Evaluate the linear regression model on the test data\n",
    "    score = model.score(X_test, y_test)\n",
    "    y_pred = model.predict(X_test)\n",
    "    y_pred = np.reshape(y_pred, (y_pred.shape[0]))\n",
    "    mse_scores.append(mean_squared_error(y_test, y_pred))\n",
    "    predictions = np.concatenate((predictions, y_pred), axis = 0)\n",
    "    y_test = np.reshape(y_test, (y_test.shape[0],))\n",
    "    y_tests = np.concatenate((y_tests, y_test), axis = 0)\n",
    "    xgb_correlations.append(np.corrcoef(y_test, y_pred)[0,1])\n",
    "    train_score = model.score(X_train, y_train)\n",
    "    #print(f\"Test score: {score:.4f}\")\n",
    "    #print(f\"Train score: {train_score:.4f}\")"
   ]
  },
  {
   "cell_type": "code",
   "execution_count": 243,
   "metadata": {},
   "outputs": [
    {
     "data": {
      "text/plain": [
       "0.0006964473454203828"
      ]
     },
     "execution_count": 243,
     "metadata": {},
     "output_type": "execute_result"
    },
    {
     "data": {
      "image/png": "[encoded data removed]",
      "text/plain": [
       "<Figure size 432x288 with 1 Axes>"
      ]
     },
     "metadata": {
      "needs_background": "light"
     },
     "output_type": "display_data"
    }
   ],
   "source": [
    "#print(np.corrcoef(y_tests, predictions)[0, 1]) #correlation over all the results\n",
    "plt.hist(xgb_correlations)\n",
    "np.mean(xgb_correlations) #mean correlation of each group"
   ]
  },
  {
   "cell_type": "code",
   "execution_count": 244,
   "metadata": {},
   "outputs": [
    {
     "data": {
      "text/plain": [
       "1.4275606930648965"
      ]
     },
     "execution_count": 244,
     "metadata": {},
     "output_type": "execute_result"
    },
    {
     "data": {
      "image/png": "[encoded data removed]",
      "text/plain": [
       "<Figure size 432x288 with 1 Axes>"
      ]
     },
     "metadata": {
      "needs_background": "light"
     },
     "output_type": "display_data"
    }
   ],
   "source": [
    "plt.hist(mse_scores)\n",
    "np.mean(mse_scores)"
   ]
  },
  {
   "cell_type": "code",
   "execution_count": 305,
   "metadata": {},
   "outputs": [
    {
     "name": "stdout",
     "output_type": "stream",
     "text": [
      "Test score: -0.0295\n",
      "Test score: -0.1107\n",
      "Test score: -0.1143\n",
      "Test score: -0.2327\n",
      "Test score: -0.4601\n",
      "Test score: -0.7514\n",
      "Test score: -0.4683\n",
      "Test score: -0.4620\n",
      "Test score: -0.7631\n",
      "Test score: -0.0647\n",
      "Test score: -0.1317\n",
      "Test score: -0.1582\n",
      "Test score: -0.5109\n",
      "Test score: -0.0651\n",
      "Test score: -0.1722\n"
     ]
    }
   ],
   "source": [
    "\n",
    "X = df[column_names[:-2]]\n",
    "y = df['MMIs transformed']\n",
    "groups_for_cv = df['groups']\n",
    "logo = LeaveOneGroupOut()\n",
    "\n",
    "models = []\n",
    "xgb_mse_scores = []\n",
    "xgb_r2_scores = []\n",
    "y_tests = np.array([])\n",
    "predictions = np.array([])\n",
    "xgb_correlations = []\n",
    "\n",
    "# Define the parameter grid for GridSearchCV\n",
    "param_grid = {\n",
    "    'n_estimators': [50, 100, 200],\n",
    "    'max_depth': [3, 6, 9],  # Adjust the values\n",
    "    'learning_rate': [0.1, 0.01, 0.001]  # Adjust the values\n",
    "}\n",
    "\n",
    "for train_index, test_index in logo.split(X, y, groups_for_cv):\n",
    "    model = XGBRegressor(random_state=42)\n",
    "    X_scaler = StandardScaler()\n",
    "    y_scaler = StandardScaler()\n",
    "    X_train, X_test = X.iloc[train_index], X.iloc[test_index]\n",
    "    y_train, y_test = y.iloc[train_index], y.iloc[test_index]\n",
    "    \n",
    "    # Normalize X_train, X_test, y_train, y_test\n",
    "    X_train = X_scaler.fit_transform(X_train)\n",
    "    X_test = X_scaler.transform(X_test)\n",
    "    y_train = np.reshape(y_train, (y_train.shape[0], 1))\n",
    "    y_test = np.reshape(y_test, (y_test.shape[0], 1))\n",
    "    y_train = y_scaler.fit_transform(y_train)\n",
    "    y_test = y_scaler.transform(y_test)\n",
    "    \n",
    "    # Create GridSearchCV instance\n",
    "    grid_search = GridSearchCV(model, param_grid, cv=5, scoring='neg_mean_squared_error', n_jobs=-1)\n",
    "    \n",
    "    # Fit the GridSearchCV on the training data\n",
    "    grid_search.fit(X_train, y_train.ravel())\n",
    "    \n",
    "    # Get the best model from GridSearchCV\n",
    "    best_model = grid_search.best_estimator_\n",
    "    \n",
    "    # Evaluate the XGBoost model on the test data\n",
    "    score = best_model.score(X_test, y_test)\n",
    "    y_pred = best_model.predict(X_test)\n",
    "    xgb_mse_scores.append(mean_squared_error(y_test, y_pred))\n",
    "    xgb_r2_scores.append(r2_score(y_test, y_pred))\n",
    "    predictions = np.concatenate((predictions, y_pred), axis=0)\n",
    "    y_test = np.reshape(y_test, (y_test.shape[0],))\n",
    "    y_tests = np.concatenate((y_tests, y_test), axis=0)\n",
    "    xgb_correlations.append(np.corrcoef(y_test, y_pred)[0, 1])\n",
    "    \n",
    "    print(f\"Test score: {score:.4f}\")\n"
   ]
  },
  {
   "cell_type": "code",
   "execution_count": 289,
   "metadata": {},
   "outputs": [
    {
     "data": {
      "text/plain": [
       "1.494865726174572"
      ]
     },
     "execution_count": 289,
     "metadata": {},
     "output_type": "execute_result"
    }
   ],
   "source": [
    "np.mean(mse_scores)"
   ]
  },
  {
   "cell_type": "code",
   "execution_count": 256,
   "metadata": {},
   "outputs": [
    {
     "data": {
      "image/png": "[encoded data removed]",
      "text/plain": [
       "<Figure size 432x288 with 1 Axes>"
      ]
     },
     "metadata": {
      "needs_background": "light"
     },
     "output_type": "display_data"
    },
    {
     "data": {
      "text/plain": [
       "<Figure size 1440x720 with 0 Axes>"
      ]
     },
     "metadata": {},
     "output_type": "display_data"
    }
   ],
   "source": [
    "#print(np.corrcoef(y_tests, predictions)[0, 1]) #correlation over all the results\n",
    "plt.hist(xgb_correlations)\n",
    "np.mean(xgb_correlations) #mean correlation of each group\n",
    "plt.xlabel(\"Correlation\", fontsize=15)\n",
    "plt.title(\"XGB Correlations\", fontsize=15)\n",
    "plt.xticks(fontsize=15)\n",
    "plt.yticks(fontsize=15)\n",
    "plt.figure(figsize=(20, 10))\n",
    "plt.show()"
   ]
  },
  {
   "cell_type": "code",
   "execution_count": 285,
   "metadata": {},
   "outputs": [
    {
     "data": {
      "text/plain": [
       "-0.0062995751331518385"
      ]
     },
     "execution_count": 285,
     "metadata": {},
     "output_type": "execute_result"
    }
   ],
   "source": [
    "np.mean(xgb_correlations) #mean correlation of each group\n"
   ]
  },
  {
   "cell_type": "markdown",
   "metadata": {},
   "source": [
    "SVR"
   ]
  },
  {
   "cell_type": "code",
   "execution_count": 304,
   "metadata": {},
   "outputs": [
    {
     "name": "stderr",
     "output_type": "stream",
     "text": [
      "/Library/Frameworks/Python.framework/Versions/3.9/lib/python3.9/site-packages/sklearn/utils/validation.py:1143: DataConversionWarning: A column-vector y was passed when a 1d array was expected. Please change the shape of y to (n_samples, ), for example using ravel().\n",
      "  y = column_or_1d(y, warn=True)\n",
      "/Library/Frameworks/Python.framework/Versions/3.9/lib/python3.9/site-packages/sklearn/utils/validation.py:1143: DataConversionWarning: A column-vector y was passed when a 1d array was expected. Please change the shape of y to (n_samples, ), for example using ravel().\n",
      "  y = column_or_1d(y, warn=True)\n"
     ]
    },
    {
     "ename": "KeyboardInterrupt",
     "evalue": "",
     "output_type": "error",
     "traceback": [
      "\u001b[0;31m---------------------------------------------------------------------------\u001b[0m",
      "\u001b[0;31mKeyboardInterrupt\u001b[0m                         Traceback (most recent call last)",
      "\u001b[1;32m/Users/omrisnir/Desktop/omri/grand_model.ipynb Cell 76\u001b[0m in \u001b[0;36m<cell line: 11>\u001b[0;34m()\u001b[0m\n\u001b[1;32m     <a href='vscode-notebook-cell:/Users/omrisnir/Desktop/omri/grand_model.ipynb#Y112sZmlsZQ%3D%3D?line=34'>35</a>\u001b[0m y_tests \u001b[39m=\u001b[39m np\u001b[39m.\u001b[39mconcatenate((y_tests, y_test), axis \u001b[39m=\u001b[39m \u001b[39m0\u001b[39m)\n\u001b[1;32m     <a href='vscode-notebook-cell:/Users/omrisnir/Desktop/omri/grand_model.ipynb#Y112sZmlsZQ%3D%3D?line=35'>36</a>\u001b[0m svr_correlations\u001b[39m.\u001b[39mappend(np\u001b[39m.\u001b[39mcorrcoef(y_test, y_pred)[\u001b[39m0\u001b[39m,\u001b[39m1\u001b[39m])\n\u001b[0;32m---> <a href='vscode-notebook-cell:/Users/omrisnir/Desktop/omri/grand_model.ipynb#Y112sZmlsZQ%3D%3D?line=36'>37</a>\u001b[0m train_score \u001b[39m=\u001b[39m model\u001b[39m.\u001b[39;49mscore(X_train, y_train)\n",
      "File \u001b[0;32m/Library/Frameworks/Python.framework/Versions/3.9/lib/python3.9/site-packages/sklearn/base.py:722\u001b[0m, in \u001b[0;36mRegressorMixin.score\u001b[0;34m(self, X, y, sample_weight)\u001b[0m\n\u001b[1;32m    680\u001b[0m \u001b[39m\"\"\"Return the coefficient of determination of the prediction.\u001b[39;00m\n\u001b[1;32m    681\u001b[0m \n\u001b[1;32m    682\u001b[0m \u001b[39mThe coefficient of determination :math:`R^2` is defined as\u001b[39;00m\n\u001b[0;32m   (...)\u001b[0m\n\u001b[1;32m    717\u001b[0m \u001b[39m:class:`~sklearn.multioutput.MultiOutputRegressor`).\u001b[39;00m\n\u001b[1;32m    718\u001b[0m \u001b[39m\"\"\"\u001b[39;00m\n\u001b[1;32m    720\u001b[0m \u001b[39mfrom\u001b[39;00m \u001b[39m.\u001b[39;00m\u001b[39mmetrics\u001b[39;00m \u001b[39mimport\u001b[39;00m r2_score\n\u001b[0;32m--> 722\u001b[0m y_pred \u001b[39m=\u001b[39m \u001b[39mself\u001b[39;49m\u001b[39m.\u001b[39;49mpredict(X)\n\u001b[1;32m    723\u001b[0m \u001b[39mreturn\u001b[39;00m r2_score(y, y_pred, sample_weight\u001b[39m=\u001b[39msample_weight)\n",
      "File \u001b[0;32m/Library/Frameworks/Python.framework/Versions/3.9/lib/python3.9/site-packages/sklearn/svm/_base.py:435\u001b[0m, in \u001b[0;36mBaseLibSVM.predict\u001b[0;34m(self, X)\u001b[0m\n\u001b[1;32m    433\u001b[0m X \u001b[39m=\u001b[39m \u001b[39mself\u001b[39m\u001b[39m.\u001b[39m_validate_for_predict(X)\n\u001b[1;32m    434\u001b[0m predict \u001b[39m=\u001b[39m \u001b[39mself\u001b[39m\u001b[39m.\u001b[39m_sparse_predict \u001b[39mif\u001b[39;00m \u001b[39mself\u001b[39m\u001b[39m.\u001b[39m_sparse \u001b[39melse\u001b[39;00m \u001b[39mself\u001b[39m\u001b[39m.\u001b[39m_dense_predict\n\u001b[0;32m--> 435\u001b[0m \u001b[39mreturn\u001b[39;00m predict(X)\n",
      "File \u001b[0;32m/Library/Frameworks/Python.framework/Versions/3.9/lib/python3.9/site-packages/sklearn/svm/_base.py:454\u001b[0m, in \u001b[0;36mBaseLibSVM._dense_predict\u001b[0;34m(self, X)\u001b[0m\n\u001b[1;32m    446\u001b[0m         \u001b[39mraise\u001b[39;00m \u001b[39mValueError\u001b[39;00m(\n\u001b[1;32m    447\u001b[0m             \u001b[39m\"\u001b[39m\u001b[39mX.shape[1] = \u001b[39m\u001b[39m%d\u001b[39;00m\u001b[39m should be equal to \u001b[39m\u001b[39m%d\u001b[39;00m\u001b[39m, \u001b[39m\u001b[39m\"\u001b[39m\n\u001b[1;32m    448\u001b[0m             \u001b[39m\"\u001b[39m\u001b[39mthe number of samples at training time\u001b[39m\u001b[39m\"\u001b[39m\n\u001b[1;32m    449\u001b[0m             \u001b[39m%\u001b[39m (X\u001b[39m.\u001b[39mshape[\u001b[39m1\u001b[39m], \u001b[39mself\u001b[39m\u001b[39m.\u001b[39mshape_fit_[\u001b[39m0\u001b[39m])\n\u001b[1;32m    450\u001b[0m         )\n\u001b[1;32m    452\u001b[0m svm_type \u001b[39m=\u001b[39m LIBSVM_IMPL\u001b[39m.\u001b[39mindex(\u001b[39mself\u001b[39m\u001b[39m.\u001b[39m_impl)\n\u001b[0;32m--> 454\u001b[0m \u001b[39mreturn\u001b[39;00m libsvm\u001b[39m.\u001b[39;49mpredict(\n\u001b[1;32m    455\u001b[0m     X,\n\u001b[1;32m    456\u001b[0m     \u001b[39mself\u001b[39;49m\u001b[39m.\u001b[39;49msupport_,\n\u001b[1;32m    457\u001b[0m     \u001b[39mself\u001b[39;49m\u001b[39m.\u001b[39;49msupport_vectors_,\n\u001b[1;32m    458\u001b[0m     \u001b[39mself\u001b[39;49m\u001b[39m.\u001b[39;49m_n_support,\n\u001b[1;32m    459\u001b[0m     \u001b[39mself\u001b[39;49m\u001b[39m.\u001b[39;49m_dual_coef_,\n\u001b[1;32m    460\u001b[0m     \u001b[39mself\u001b[39;49m\u001b[39m.\u001b[39;49m_intercept_,\n\u001b[1;32m    461\u001b[0m     \u001b[39mself\u001b[39;49m\u001b[39m.\u001b[39;49m_probA,\n\u001b[1;32m    462\u001b[0m     \u001b[39mself\u001b[39;49m\u001b[39m.\u001b[39;49m_probB,\n\u001b[1;32m    463\u001b[0m     svm_type\u001b[39m=\u001b[39;49msvm_type,\n\u001b[1;32m    464\u001b[0m     kernel\u001b[39m=\u001b[39;49mkernel,\n\u001b[1;32m    465\u001b[0m     degree\u001b[39m=\u001b[39;49m\u001b[39mself\u001b[39;49m\u001b[39m.\u001b[39;49mdegree,\n\u001b[1;32m    466\u001b[0m     coef0\u001b[39m=\u001b[39;49m\u001b[39mself\u001b[39;49m\u001b[39m.\u001b[39;49mcoef0,\n\u001b[1;32m    467\u001b[0m     gamma\u001b[39m=\u001b[39;49m\u001b[39mself\u001b[39;49m\u001b[39m.\u001b[39;49m_gamma,\n\u001b[1;32m    468\u001b[0m     cache_size\u001b[39m=\u001b[39;49m\u001b[39mself\u001b[39;49m\u001b[39m.\u001b[39;49mcache_size,\n\u001b[1;32m    469\u001b[0m )\n",
      "\u001b[0;31mKeyboardInterrupt\u001b[0m: "
     ]
    }
   ],
   "source": [
    "X = df[column_names[:-2]]\n",
    "y = df['MMIs transformed']\n",
    "groups_for_cv = df['groups']\n",
    "logo = LeaveOneGroupOut()\n",
    "models = []\n",
    "svr_mse_scores = []\n",
    "svr_r2_scores = []\n",
    "y_tests = np.array([])\n",
    "predictions = np.array([])\n",
    "svr_correlations = []\n",
    "for train_index, test_index in logo.split(X, y, groups_for_cv):\n",
    "    model = SVR(kernel='rbf', epsilon=0.05)\n",
    "    X_scaler = StandardScaler()\n",
    "    y_scaler = StandardScaler()\n",
    "    X_train, X_test = X.iloc[train_index], X.iloc[test_index]\n",
    "    y_train, y_test = y.iloc[train_index], y.iloc[test_index]\n",
    "    #Normalize X_train, X_test, y_train, y_test\n",
    "    X_train = X_scaler.fit_transform(X_train)\n",
    "    X_test = X_scaler.transform(X_test)\n",
    "    y_train = np.reshape(y_train, (y_train.shape[0],1))\n",
    "    y_test = np.reshape(y_test, (y_test.shape[0],1))\n",
    "    y_train = y_scaler.fit_transform(y_train)\n",
    "    y_test = y_scaler.transform(y_test)\n",
    "    # Fit the linear regression model on the training data\n",
    "    model.fit(X_train, y_train)\n",
    "    models.append(model)\n",
    "    # Evaluate the linear regression model on the test data\n",
    "    score = model.score(X_test, y_test)\n",
    "    y_pred = model.predict(X_test)\n",
    "    y_pred = np.reshape(y_pred, (y_pred.shape[0]))\n",
    "    svr_mse_scores.append(mean_squared_error(y_test, y_pred))\n",
    "    svr_r2_scores.append(r2_score(y_test, y_pred))\n",
    "    predictions = np.concatenate((predictions, y_pred), axis = 0)\n",
    "    y_test = np.reshape(y_test, (y_test.shape[0],))\n",
    "    y_tests = np.concatenate((y_tests, y_test), axis = 0)\n",
    "    svr_correlations.append(np.corrcoef(y_test, y_pred)[0,1])\n",
    "    train_score = model.score(X_train, y_train)\n",
    "    #print(f\"Test score: {score:.4f}\")\n",
    "    #print(f\"Train score: {train_score:.4f}\")"
   ]
  },
  {
   "cell_type": "code",
   "execution_count": 299,
   "metadata": {},
   "outputs": [
    {
     "data": {
      "text/plain": [
       "1.0559580814337923"
      ]
     },
     "execution_count": 299,
     "metadata": {},
     "output_type": "execute_result"
    }
   ],
   "source": [
    "np.mean(svr_mse_scores)"
   ]
  },
  {
   "cell_type": "code",
   "execution_count": 300,
   "metadata": {},
   "outputs": [
    {
     "data": {
      "text/plain": [
       "-0.9867762931780584"
      ]
     },
     "execution_count": 300,
     "metadata": {},
     "output_type": "execute_result"
    }
   ],
   "source": [
    "np.mean(svr_r2_scores)"
   ]
  },
  {
   "cell_type": "code",
   "execution_count": 246,
   "metadata": {},
   "outputs": [
    {
     "data": {
      "image/png": "[encoded data removed]",
      "text/plain": [
       "<Figure size 432x288 with 1 Axes>"
      ]
     },
     "metadata": {
      "needs_background": "light"
     },
     "output_type": "display_data"
    },
    {
     "data": {
      "text/plain": [
       "<Figure size 1440x720 with 0 Axes>"
      ]
     },
     "metadata": {},
     "output_type": "display_data"
    }
   ],
   "source": [
    "#print(np.corrcoef(y_tests, predictions)[0, 1]) #correlation over all the results\n",
    "plt.hist(svr_correlations)\n",
    "np.mean(svr_correlations) #mean correlation of each group\n",
    "plt.xlabel(\"Correlation\", fontsize=15)\n",
    "plt.title(\"SVR Correlations\", fontsize=15)\n",
    "plt.xticks(fontsize=15)\n",
    "plt.yticks(fontsize=15)\n",
    "plt.figure(figsize=(20, 10))\n",
    "plt.show()"
   ]
  },
  {
   "cell_type": "code",
   "execution_count": 247,
   "metadata": {},
   "outputs": [
    {
     "data": {
      "text/plain": [
       "0.013474645966427707"
      ]
     },
     "execution_count": 247,
     "metadata": {},
     "output_type": "execute_result"
    }
   ],
   "source": [
    "np.mean(svr_correlations)"
   ]
  },
  {
   "cell_type": "markdown",
   "metadata": {},
   "source": [
    "Random Forest with Grid Search"
   ]
  },
  {
   "cell_type": "code",
   "execution_count": 301,
   "metadata": {},
   "outputs": [
    {
     "name": "stdout",
     "output_type": "stream",
     "text": [
      "Test score: -0.0231\n",
      "Test score: -0.0592\n",
      "Test score: -0.1618\n",
      "Test score: -0.5753\n",
      "Test score: -0.3118\n",
      "Test score: -0.8975\n",
      "Test score: -0.3545\n",
      "Test score: -0.6710\n",
      "Test score: -0.4636\n",
      "Test score: -0.0671\n",
      "Test score: -0.0453\n",
      "Test score: -0.1337\n",
      "Test score: -0.9434\n",
      "Test score: -0.0621\n",
      "Test score: -0.1460\n",
      "Test score: -1.3802\n",
      "Test score: -0.3181\n",
      "Test score: -16.9057\n",
      "Test score: -1.4320\n",
      "Test score: -0.1545\n",
      "Test score: -1.1330\n",
      "Test score: -0.4319\n",
      "Test score: -0.2920\n",
      "Test score: -0.4689\n",
      "Test score: 0.0038\n",
      "Test score: -2.3384\n",
      "Test score: -17.4117\n",
      "Test score: -2.1651\n",
      "Test score: 0.0397\n",
      "Test score: -1.0095\n",
      "Test score: -0.0598\n",
      "Test score: -0.3010\n",
      "Test score: -0.3358\n",
      "Test score: 0.0137\n",
      "Test score: -1.9758\n"
     ]
    }
   ],
   "source": [
    "from sklearn.ensemble import RandomForestRegressor\n",
    "from sklearn.model_selection import LeaveOneGroupOut, GridSearchCV\n",
    "from sklearn.preprocessing import StandardScaler\n",
    "from sklearn.metrics import mean_squared_error\n",
    "import numpy as np\n",
    "\n",
    "# Assuming you have your data in X, y, and groups_for_cv\n",
    "\n",
    "logo = LeaveOneGroupOut()\n",
    "\n",
    "models = []\n",
    "randomm_forest_mse_scores = []\n",
    "randomm_forest_r2_scores = []\n",
    "y_tests = np.array([])\n",
    "predictions = np.array([])\n",
    "random_forest_correlations = []\n",
    "\n",
    "# Define the parameter grid for GridSearchCV\n",
    "param_grid = {\n",
    "    'n_estimators': [50, 100, 200],\n",
    "    'max_depth': [None, 10, 20],\n",
    "    'min_samples_split': [2, 5, 10]\n",
    "}\n",
    "\n",
    "for train_index, test_index in logo.split(X, y, groups_for_cv):\n",
    "    model = RandomForestRegressor(random_state=42)\n",
    "    X_scaler = StandardScaler()\n",
    "    y_scaler = StandardScaler()\n",
    "    X_train, X_test = X.iloc[train_index], X.iloc[test_index]\n",
    "    y_train, y_test = y.iloc[train_index], y.iloc[test_index]\n",
    "    \n",
    "    # Normalize X_train, X_test, y_train, y_test\n",
    "    X_train = X_scaler.fit_transform(X_train)\n",
    "    X_test = X_scaler.transform(X_test)\n",
    "    y_train = np.reshape(y_train, (y_train.shape[0], 1))\n",
    "    y_test = np.reshape(y_test, (y_test.shape[0], 1))\n",
    "    y_train = y_scaler.fit_transform(y_train)\n",
    "    y_test = y_scaler.transform(y_test)\n",
    "    \n",
    "    # Create GridSearchCV instance\n",
    "    grid_search = GridSearchCV(model, param_grid, cv=5, scoring='neg_mean_squared_error', n_jobs=-1)\n",
    "    \n",
    "    # Fit the GridSearchCV on the training data\n",
    "    grid_search.fit(X_train, y_train.ravel())\n",
    "    \n",
    "    # Get the best model from GridSearchCV\n",
    "    best_model = grid_search.best_estimator_\n",
    "    models.append(best_model)\n",
    "    # Evaluate the random forest model on the test data\n",
    "    score = best_model.score(X_test, y_test)\n",
    "    y_pred = best_model.predict(X_test)\n",
    "    randomm_forest_mse_scores.append(mean_squared_error(y_test, y_pred))\n",
    "    randomm_forest_r2_scores.append(r2_score(y_test, y_pred))\n",
    "    predictions = np.concatenate((predictions, y_pred), axis=0)\n",
    "    y_test = np.reshape(y_test, (y_test.shape[0],))\n",
    "    y_tests = np.concatenate((y_tests, y_test), axis=0)\n",
    "    random_forest_correlations.append(np.corrcoef(y_test, y_pred)[0, 1])\n",
    "    \n",
    "    print(f\"Test score: {score:.4f}\")\n",
    "\n",
    "# Perform any analysis or reporting you need based on the results\n"
   ]
  },
  {
   "cell_type": "code",
   "execution_count": 302,
   "metadata": {},
   "outputs": [
    {
     "data": {
      "text/plain": [
       "1.175359605307237"
      ]
     },
     "execution_count": 302,
     "metadata": {},
     "output_type": "execute_result"
    }
   ],
   "source": [
    "np.mean(randomm_forest_mse_scores)"
   ]
  },
  {
   "cell_type": "code",
   "execution_count": 303,
   "metadata": {},
   "outputs": [
    {
     "data": {
      "text/plain": [
       "-1.513472246862183"
      ]
     },
     "execution_count": 303,
     "metadata": {},
     "output_type": "execute_result"
    }
   ],
   "source": [
    "np.mean(randomm_forest_r2_scores)"
   ]
  },
  {
   "cell_type": "code",
   "execution_count": 264,
   "metadata": {},
   "outputs": [
    {
     "name": "stdout",
     "output_type": "stream",
     "text": [
      "0.03131198989806657\n"
     ]
    },
    {
     "data": {
      "image/png": "[encoded data removed]",
      "text/plain": [
       "<Figure size 432x288 with 1 Axes>"
      ]
     },
     "metadata": {
      "needs_background": "light"
     },
     "output_type": "display_data"
    },
    {
     "data": {
      "text/plain": [
       "<Figure size 1440x720 with 0 Axes>"
      ]
     },
     "metadata": {},
     "output_type": "display_data"
    }
   ],
   "source": [
    "#print(np.corrcoef(y_tests, predictions)[0, 1]) #correlation over all the results\n",
    "plt.hist(random_forest_correlations)\n",
    "print(np.mean(random_forest_correlations)) #mean correlation of each group\n",
    "plt.xlabel(\"Correlation\", fontsize=15)\n",
    "plt.title(\"Random Forrest Correlations\", fontsize=15)\n",
    "plt.xticks(fontsize=15)\n",
    "plt.yticks(fontsize=15)\n",
    "plt.figure(figsize=(20, 10))\n",
    "plt.show()"
   ]
  }
 ],
 "metadata": {
  "kernelspec": {
   "display_name": "Python 3",
   "language": "python",
   "name": "python3"
  },
  "language_info": {
   "codemirror_mode": {
    "name": "ipython",
    "version": 3
   },
   "file_extension": ".py",
   "mimetype": "text/x-python",
   "name": "python",
   "nbconvert_exporter": "python",
   "pygments_lexer": "ipython3",
   "version": "3.9.2"
  },
  "orig_nbformat": 4
 },
 "nbformat": 4,
 "nbformat_minor": 2
}
